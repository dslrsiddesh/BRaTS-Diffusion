{
  "cells": [
    {
      "cell_type": "markdown",
      "metadata": {},
      "source": [
        "### Wandb connect"
      ]
    },
    {
      "cell_type": "code",
      "execution_count": 1,
      "metadata": {},
      "outputs": [
        {
          "name": "stderr",
          "output_type": "stream",
          "text": [
            "\u001b[34m\u001b[1mwandb\u001b[0m: Using wandb-core as the SDK backend.  Please refer to https://wandb.me/wandb-core for more information.\n",
            "\u001b[34m\u001b[1mwandb\u001b[0m: Logging into wandb.ai. (Learn how to deploy a W&B server locally: https://wandb.me/wandb-server)\n",
            "\u001b[34m\u001b[1mwandb\u001b[0m: You can find your API key in your browser here: https://wandb.ai/authorize\n",
            "\u001b[34m\u001b[1mwandb\u001b[0m: Paste an API key from your profile and hit enter:\u001b[34m\u001b[1mwandb\u001b[0m: \u001b[33mWARNING\u001b[0m If you're specifying your api key in code, ensure this code is not shared publicly.\n",
            "\u001b[34m\u001b[1mwandb\u001b[0m: \u001b[33mWARNING\u001b[0m Consider setting the WANDB_API_KEY environment variable, or running `wandb login` from the command line.\n",
            "\u001b[34m\u001b[1mwandb\u001b[0m: No netrc file found, creating one.\n",
            "\u001b[34m\u001b[1mwandb\u001b[0m: Appending key for api.wandb.ai to your netrc file: /Users/siddesh/.netrc\n",
            "\u001b[34m\u001b[1mwandb\u001b[0m: Currently logged in as: \u001b[33mcs21b2019\u001b[0m (\u001b[33mcs21b2019-iiitdm-kancheepuram\u001b[0m) to \u001b[32mhttps://api.wandb.ai\u001b[0m. Use \u001b[1m`wandb login --relogin`\u001b[0m to force relogin\n"
          ]
        },
        {
          "data": {
            "text/plain": [
              "True"
            ]
          },
          "execution_count": 1,
          "metadata": {},
          "output_type": "execute_result"
        }
      ],
      "source": [
        "import wandb\n",
        "wandb.login()"
      ]
    },
    {
      "cell_type": "code",
      "execution_count": null,
      "metadata": {},
      "outputs": [],
      "source": [
        "wandb.init(project=\"brats-diffusion\")"
      ]
    },
    {
      "cell_type": "markdown",
      "metadata": {
        "id": "gJzfe3HOz4KD"
      },
      "source": [
        "### Imports"
      ]
    },
    {
      "cell_type": "code",
      "execution_count": 1,
      "metadata": {
        "_cell_guid": "b1076dfc-b9ad-4769-8c92-a6c4dae69d19",
        "_uuid": "8f2839f25d086af736a60e9eeb907d3b93b6e0e5",
        "execution": {
          "iopub.execute_input": "2025-02-09T13:57:43.339659Z",
          "iopub.status.busy": "2025-02-09T13:57:43.339310Z",
          "iopub.status.idle": "2025-02-09T13:57:43.344047Z",
          "shell.execute_reply": "2025-02-09T13:57:43.343161Z",
          "shell.execute_reply.started": "2025-02-09T13:57:43.339611Z"
        },
        "id": "8C2-H7ExJtlG",
        "trusted": true
      },
      "outputs": [],
      "source": [
        "# Imports\n",
        "import torch\n",
        "import os\n",
        "import torch.nn as nn\n",
        "import torch.nn.functional as F\n",
        "from einops import rearrange #pip install einops\n",
        "from typing import List\n",
        "import random\n",
        "import math\n",
        "from torchvision import datasets, transforms\n",
        "from torch.utils.data import DataLoader\n",
        "from timm.utils import ModelEmaV3 #pip install timm\n",
        "from tqdm import tqdm #pip install tqdm\n",
        "import matplotlib.pyplot as plt #pip install matplotlib\n",
        "import torch.optim as optim\n",
        "import numpy as np\n",
        "import nibabel as nib\n",
        "from sklearn.metrics import roc_auc_score\n",
        "from skimage.filters import threshold_otsu"
      ]
    },
    {
      "cell_type": "markdown",
      "metadata": {},
      "source": [
        "### Utils"
      ]
    },
    {
      "cell_type": "markdown",
      "metadata": {},
      "source": [
        "#### Logging"
      ]
    },
    {
      "cell_type": "code",
      "execution_count": 2,
      "metadata": {},
      "outputs": [],
      "source": [
        "def print_log(message):\n",
        "    print(f\"[Log] {message}\")"
      ]
    },
    {
      "cell_type": "markdown",
      "metadata": {},
      "source": [
        "#### Normalize images"
      ]
    },
    {
      "cell_type": "code",
      "execution_count": 3,
      "metadata": {},
      "outputs": [],
      "source": [
        "def normalize_images(images):\n",
        "    return (images - 0.5) / 0.5\n",
        "\n",
        "# def normalize_images(images): # Normalize images to [-1, 1] using min-max scaling\n",
        "#     min_val = images.min()\n",
        "#     max_val = images.max()\n",
        "#     return 2 * (images - min_val) / (max_val - min_val) - 1"
      ]
    },
    {
      "cell_type": "code",
      "execution_count": 4,
      "metadata": {},
      "outputs": [],
      "source": [
        "def visualize_image(image):\n",
        "    min_val = image.min()\n",
        "    max_val = image.max()\n",
        "    normalize_image = (image - min_val) / (max_val - min_val)\n",
        "    return normalize_image"
      ]
    },
    {
      "cell_type": "markdown",
      "metadata": {},
      "source": [
        "#### Set device"
      ]
    },
    {
      "cell_type": "code",
      "execution_count": 5,
      "metadata": {},
      "outputs": [
        {
          "name": "stdout",
          "output_type": "stream",
          "text": [
            "[Log] Using device: cpu\n"
          ]
        }
      ],
      "source": [
        "device = torch.device(\"cuda:0\" if torch.cuda.is_available() else \"cpu\")\n",
        "print_log(f\"Using device: {device}\")"
      ]
    },
    {
      "cell_type": "markdown",
      "metadata": {},
      "source": [
        "#### Save Checkpoint"
      ]
    },
    {
      "cell_type": "code",
      "execution_count": 6,
      "metadata": {},
      "outputs": [],
      "source": [
        "def save_checkpoint(model, optimizer, ema, filename, folder='../checkpoints'):\n",
        "    checkpoint_path = os.path.join(folder, filename)\n",
        "\n",
        "    checkpoint = {\n",
        "        'weights': model.state_dict(),\n",
        "        'optimizer': optimizer.state_dict(),\n",
        "        'ema': ema.state_dict()\n",
        "    }\n",
        "\n",
        "    torch.save(checkpoint, checkpoint_path)\n",
        "    print(f\"[INFO] Checkpoint saved at: {checkpoint_path}\")"
      ]
    },
    {
      "cell_type": "markdown",
      "metadata": {},
      "source": [
        "#### Dice Score"
      ]
    },
    {
      "cell_type": "code",
      "execution_count": null,
      "metadata": {},
      "outputs": [],
      "source": [
        "def dice_score(pred, target, eps=1e-6):\n",
        "    \"\"\"Compute Dice score between a single prediction and target.\"\"\"\n",
        "    # Ensure both are tensors\n",
        "    pred = torch.as_tensor(pred, dtype=torch.float32)\n",
        "    target = torch.as_tensor(target, dtype=torch.float32)\n",
        "\n",
        "    intersection = (pred * target).sum()\n",
        "    union = pred.sum() + target.sum()\n",
        "    \n",
        "    dice = (2. * intersection + eps) / (union + eps)\n",
        "    \n",
        "    return dice.item()  # Ensure a scalar is returned\n"
      ]
    },
    {
      "cell_type": "markdown",
      "metadata": {},
      "source": [
        "#### OTSU's Thresholding"
      ]
    },
    {
      "cell_type": "code",
      "execution_count": 8,
      "metadata": {},
      "outputs": [],
      "source": [
        "def apply_otsu_thresholding(image):\n",
        "    # Convert image to numpy array if it's not already\n",
        "    image = np.asarray(image)\n",
        "\n",
        "    # Compute Otsu's threshold\n",
        "    thresh = threshold_otsu(image)\n",
        "\n",
        "    # Apply thresholding\n",
        "    binary_image = (image > thresh).astype(np.uint8)\n",
        "\n",
        "    return binary_image"
      ]
    },
    {
      "cell_type": "markdown",
      "metadata": {
        "id": "nLtAHV-arapv"
      },
      "source": [
        "### Early Stopping"
      ]
    },
    {
      "cell_type": "code",
      "execution_count": 9,
      "metadata": {
        "id": "eQKp1NCQrdfS"
      },
      "outputs": [],
      "source": [
        "class EarlyStopping:\n",
        "    def __init__(self, patience=5, delta=1e-4, model_path=\"best_model.pth\"):\n",
        "        self.patience = patience\n",
        "        self.delta = delta  # Minimum improvement threshold\n",
        "        self.best_score = None\n",
        "        self.counter = 0\n",
        "        self.model_path = model_path  # Save the best model\n",
        "\n",
        "    def step(self, val_loss, model):\n",
        "        if self.best_score is None:\n",
        "            self.best_score = val_loss\n",
        "            self.save_checkpoint(model)\n",
        "            return False\n",
        "\n",
        "        elif val_loss < self.best_score - self.delta:  # Require significant improvement\n",
        "            self.best_score = val_loss\n",
        "            self.counter = 0\n",
        "            self.save_checkpoint(model)  # Save best model\n",
        "            return False\n",
        "\n",
        "        else:\n",
        "            self.counter += 1\n",
        "            if self.counter >= self.patience:\n",
        "                print(\"Early Stopping Triggered.\")\n",
        "                return True  # Stop training\n",
        "            return False\n",
        "\n",
        "    def save_checkpoint(self, model):\n",
        "        \"\"\"Save the model when validation loss improves.\"\"\"\n",
        "        torch.save(model.state_dict(), self.model_path)\n",
        "        print(f\"Model saved with val_loss: {self.best_score:.6f}\")"
      ]
    },
    {
      "cell_type": "code",
      "execution_count": null,
      "metadata": {
        "id": "in_gaQkXZVty"
      },
      "outputs": [],
      "source": []
    },
    {
      "cell_type": "markdown",
      "metadata": {
        "id": "_9ORVCc1z7DR"
      },
      "source": [
        "### Data Loader"
      ]
    },
    {
      "cell_type": "code",
      "execution_count": 10,
      "metadata": {
        "id": "-ZgT72xcWtRP"
      },
      "outputs": [],
      "source": [
        "class BRATSDataset(torch.utils.data.Dataset):\n",
        "    def __init__(self, directory, test_flag=False, resize=False):\n",
        "        super().__init__()\n",
        "        self.directory = os.path.expanduser(directory)\n",
        "        self.test_flag = test_flag\n",
        "        self.seqtypes = ['t1', 't1ce', 't2', 'flair']\n",
        "        self.seqtypes_set = set(self.seqtypes)\n",
        "        self.resize = resize\n",
        "        self.database = []\n",
        "\n",
        "        for root, dirs, files in os.walk(self.directory):\n",
        "            if not dirs:  # Leaf directory\n",
        "                datapoint = {}\n",
        "                seg_path = None  # For segmentation mask\n",
        "                \n",
        "                for f in sorted(files):\n",
        "                    parts = f.split('_')\n",
        "                    seqtype = parts[3] if len(parts) > 3 else None\n",
        "                    \n",
        "                    if seqtype in self.seqtypes_set:\n",
        "                        datapoint[seqtype] = os.path.join(root, f)\n",
        "                    elif 'seg' in f.lower():  # Identify segmentation file\n",
        "                        seg_path = os.path.join(root, f)\n",
        "\n",
        "                if set(datapoint.keys()) == self.seqtypes_set and (not self.test_flag or seg_path):\n",
        "                    datapoint['seg'] = seg_path  # Add segmentation path if test_flag=True\n",
        "                    self.database.append(datapoint)\n",
        "\n",
        "    def __getitem__(self, index):\n",
        "        filedict = self.database[index]\n",
        "        images = []\n",
        "\n",
        "        for seqtype in self.seqtypes:\n",
        "            img = nib.load(filedict[seqtype]).get_fdata()\n",
        "            img = torch.tensor(img, dtype=torch.float32)\n",
        "\n",
        "            if self.resize:\n",
        "                img = F.interpolate(img.unsqueeze(0).unsqueeze(0), size=(128, 128), mode=\"bilinear\", align_corners=False)\n",
        "                img = img.squeeze()\n",
        "\n",
        "            images.append(img)\n",
        "\n",
        "        images = torch.stack(images)  # Shape: (4, H, W)\n",
        "\n",
        "        if self.test_flag:\n",
        "            seg_img = nib.load(filedict['seg']).get_fdata()\n",
        "            seg_img = torch.tensor(seg_img, dtype=torch.float32)\n",
        "\n",
        "            if self.resize:\n",
        "                seg_img = F.interpolate(seg_img.unsqueeze(0).unsqueeze(0), size=(128, 128), mode=\"nearest\")\n",
        "                seg_img = seg_img.squeeze()\n",
        "\n",
        "            return images, seg_img  # Return segmentation image instead of path\n",
        "\n",
        "        return images\n",
        "\n",
        "    def __len__(self):\n",
        "        return len(self.database)"
      ]
    },
    {
      "cell_type": "markdown",
      "metadata": {
        "id": "SxpENE6MJtlI"
      },
      "source": [
        "### Timestep embedding"
      ]
    },
    {
      "cell_type": "code",
      "execution_count": 11,
      "metadata": {
        "execution": {
          "iopub.execute_input": "2025-02-09T13:57:43.363668Z",
          "iopub.status.busy": "2025-02-09T13:57:43.363421Z",
          "iopub.status.idle": "2025-02-09T13:57:43.375185Z",
          "shell.execute_reply": "2025-02-09T13:57:43.374373Z",
          "shell.execute_reply.started": "2025-02-09T13:57:43.363631Z"
        },
        "id": "P0G2b-ZuJtlJ",
        "trusted": true
      },
      "outputs": [],
      "source": [
        "class SinusoidalEmbeddings(nn.Module):\n",
        "    def __init__(self, time_steps: int, embed_dim: int):\n",
        "        super().__init__()\n",
        "        position = torch.arange(time_steps, dtype=torch.float32).unsqueeze(1)\n",
        "        div = torch.exp(torch.arange(0, embed_dim, 2, dtype=torch.float32) * -(math.log(10000.0) / embed_dim))\n",
        "        embeddings = torch.zeros(time_steps, embed_dim, requires_grad=False)\n",
        "        embeddings[:, 0::2] = torch.sin(position * div)\n",
        "        embeddings[:, 1::2] = torch.cos(position * div)\n",
        "        self.register_buffer('embeddings', embeddings)\n",
        "\n",
        "    def forward(self, x, t):\n",
        "        return self.embeddings[t].to(x.device)[:, :, None, None]"
      ]
    },
    {
      "cell_type": "markdown",
      "metadata": {
        "id": "zQFnsdN9JtlJ"
      },
      "source": [
        "### Residual Blocks"
      ]
    },
    {
      "cell_type": "code",
      "execution_count": 12,
      "metadata": {
        "execution": {
          "iopub.execute_input": "2025-02-09T13:57:43.376253Z",
          "iopub.status.busy": "2025-02-09T13:57:43.376071Z",
          "iopub.status.idle": "2025-02-09T13:57:43.383973Z",
          "shell.execute_reply": "2025-02-09T13:57:43.383316Z",
          "shell.execute_reply.started": "2025-02-09T13:57:43.376238Z"
        },
        "id": "vlBMnHudJtlJ",
        "trusted": true
      },
      "outputs": [],
      "source": [
        "# Residual Blocks\n",
        "class ResBlock(nn.Module):\n",
        "    def __init__(self, C: int, num_groups: int, dropout_prob: float):\n",
        "        super().__init__()\n",
        "        self.relu = nn.ReLU(inplace=True)\n",
        "        self.gnorm1 = nn.GroupNorm(num_groups=num_groups, num_channels=C)\n",
        "        self.gnorm2 = nn.GroupNorm(num_groups=num_groups, num_channels=C)\n",
        "        self.conv1 = nn.Conv2d(C, C, kernel_size=3, padding=1)\n",
        "        self.conv2 = nn.Conv2d(C, C, kernel_size=3, padding=1)\n",
        "        self.dropout = nn.Dropout(p=dropout_prob)\n",
        "\n",
        "    def forward(self, x, embeddings):\n",
        "        x = x + embeddings[:, :x.shape[1], :, :]\n",
        "        r = self.conv1(self.relu(self.gnorm1(x)))\n",
        "        r = self.dropout(r)\n",
        "        r = self.conv2(self.relu(self.gnorm2(r)))\n",
        "        return r + x"
      ]
    },
    {
      "cell_type": "markdown",
      "metadata": {
        "id": "NIMWqvt-JtlJ"
      },
      "source": [
        "### Self Attention"
      ]
    },
    {
      "cell_type": "code",
      "execution_count": 13,
      "metadata": {
        "execution": {
          "iopub.execute_input": "2025-02-09T13:57:43.384966Z",
          "iopub.status.busy": "2025-02-09T13:57:43.384740Z",
          "iopub.status.idle": "2025-02-09T13:57:43.396549Z",
          "shell.execute_reply": "2025-02-09T13:57:43.395878Z",
          "shell.execute_reply.started": "2025-02-09T13:57:43.384937Z"
        },
        "id": "JlkW322cJtlK",
        "trusted": true
      },
      "outputs": [],
      "source": [
        "class Attention(nn.Module):\n",
        "    def __init__(self, C: int, num_heads: int, dropout_prob: float):\n",
        "        super().__init__()\n",
        "        self.num_heads = num_heads\n",
        "        self.proj1 = nn.Linear(C, C * 3)\n",
        "        self.proj2 = nn.Linear(C, C)\n",
        "        self.dropout_prob = dropout_prob\n",
        "\n",
        "    def forward(self, x):\n",
        "        h, w = x.shape[2:]\n",
        "        x = rearrange(x, 'b c h w -> b (h w) c')\n",
        "        x = self.proj1(x)\n",
        "        x = rearrange(x, 'b L (C H K) -> K b H L C', K=3, H=self.num_heads)\n",
        "        q, k, v = x[0], x[1], x[2]\n",
        "        x = F.scaled_dot_product_attention(q, k, v, is_causal=False, dropout_p=self.dropout_prob)\n",
        "        x = rearrange(x, 'b H (h w) C -> b h w (C H)', h=h, w=w)\n",
        "        x = self.proj2(x)\n",
        "        return rearrange(x, 'b h w C -> b C h w')"
      ]
    },
    {
      "cell_type": "markdown",
      "metadata": {
        "id": "kfFBhAhgJtlK"
      },
      "source": [
        "### UNet"
      ]
    },
    {
      "cell_type": "code",
      "execution_count": 14,
      "metadata": {
        "execution": {
          "iopub.execute_input": "2025-02-09T13:57:43.397562Z",
          "iopub.status.busy": "2025-02-09T13:57:43.397293Z",
          "iopub.status.idle": "2025-02-09T13:57:43.414334Z",
          "shell.execute_reply": "2025-02-09T13:57:43.413695Z",
          "shell.execute_reply.started": "2025-02-09T13:57:43.397533Z"
        },
        "id": "w09_Fld4JtlK",
        "trusted": true
      },
      "outputs": [],
      "source": [
        "class UnetLayer(nn.Module):\n",
        "    def __init__(self,\n",
        "            upscale: bool,\n",
        "            attention: bool,\n",
        "            num_groups: int,\n",
        "            dropout_prob: float,\n",
        "            num_heads: int,\n",
        "            C: int):\n",
        "        super().__init__()\n",
        "        self.ResBlock1 = ResBlock(C, num_groups, dropout_prob)\n",
        "        self.ResBlock2 = ResBlock(C, num_groups, dropout_prob)\n",
        "        if upscale:\n",
        "            self.conv = nn.ConvTranspose2d(C, C//2, kernel_size=4, stride=2, padding=1)\n",
        "        else:\n",
        "            self.conv = nn.Conv2d(C, C*2, kernel_size=3, stride=2, padding=1)\n",
        "        self.attention_layer = Attention(C, num_heads, dropout_prob) if attention else None\n",
        "\n",
        "    def forward(self, x, embeddings):\n",
        "        x = self.ResBlock1(x, embeddings)\n",
        "        if self.attention_layer:\n",
        "            x = self.attention_layer(x)\n",
        "        x = self.ResBlock2(x, embeddings)\n",
        "        return self.conv(x), x\n",
        "\n",
        "class UNET(nn.Module):\n",
        "    def __init__(self,\n",
        "            Channels: List = [64, 128, 256, 512, 512, 384],\n",
        "            Attentions: List = [False, True, False, False, False, True],\n",
        "            Upscales: List = [False, False, False, True, True, True],\n",
        "            num_groups: int = 32,\n",
        "            dropout_prob: float = 0.1,\n",
        "            num_heads: int = 2,\n",
        "            input_channels: int = 4,\n",
        "            output_channels: int = 4,\n",
        "            time_steps: int = 500):\n",
        "\n",
        "        super().__init__()\n",
        "        self.num_layers = len(Channels)\n",
        "        self.shallow_conv = nn.Conv2d(input_channels, Channels[0], kernel_size=3, padding=1)\n",
        "        self.embeddings = SinusoidalEmbeddings(time_steps=time_steps, embed_dim=max(Channels))\n",
        "\n",
        "        out_channels = (Channels[-1] // 2) + Channels[0]\n",
        "        self.late_conv = nn.Conv2d(out_channels, out_channels // 2, kernel_size=3, padding=1)\n",
        "        self.output_conv = nn.Conv2d(out_channels // 2, output_channels, kernel_size=1)\n",
        "        self.relu = nn.ReLU(inplace=True)\n",
        "\n",
        "        # Initialize UNet layers\n",
        "        for i in range(self.num_layers):\n",
        "            layer = UnetLayer(\n",
        "                upscale=Upscales[i],\n",
        "                attention=Attentions[i],\n",
        "                num_groups=num_groups,\n",
        "                dropout_prob=dropout_prob,\n",
        "                C=Channels[i],\n",
        "                num_heads=num_heads\n",
        "            )\n",
        "            setattr(self, f'Layer{i+1}', layer)\n",
        "\n",
        "    def forward(self, x, t):\n",
        "        x = self.shallow_conv(x)\n",
        "        embeddings = self.embeddings(x, t)\n",
        "        residuals = []\n",
        "\n",
        "        for i in range(self.num_layers // 2):\n",
        "            layer = getattr(self, f'Layer{i+1}')\n",
        "            x, res = layer(x, embeddings)\n",
        "            residuals.append(res)\n",
        "\n",
        "        for i in range(self.num_layers//2, self.num_layers):\n",
        "            layer = getattr(self, f'Layer{i+1}')\n",
        "            x = torch.concat((layer(x, embeddings)[0], residuals[self.num_layers-i-1]), dim=1)\n",
        "        return self.output_conv(self.relu(self.late_conv(x)))"
      ]
    },
    {
      "cell_type": "markdown",
      "metadata": {
        "id": "r8fn_3uy0Ffv"
      },
      "source": [
        "### Scheduler"
      ]
    },
    {
      "cell_type": "code",
      "execution_count": 15,
      "metadata": {
        "execution": {
          "iopub.execute_input": "2025-02-09T13:57:43.415329Z",
          "iopub.status.busy": "2025-02-09T13:57:43.415016Z",
          "iopub.status.idle": "2025-02-09T13:57:43.431272Z",
          "shell.execute_reply": "2025-02-09T13:57:43.430569Z",
          "shell.execute_reply.started": "2025-02-09T13:57:43.415298Z"
        },
        "id": "yw96YZOGJtlK",
        "trusted": true
      },
      "outputs": [],
      "source": [
        "class DDPM_Scheduler(nn.Module):\n",
        "    def __init__(self, num_time_steps=1000):\n",
        "        super().__init__()\n",
        "        print_log(f\"Using {num_time_steps} time steps.\")\n",
        "        self.beta = torch.linspace(1e-4, 0.02, num_time_steps, requires_grad=False)\n",
        "        alpha = 1 - self.beta\n",
        "        self.register_buffer('alpha', torch.cumprod(alpha, dim=0))\n",
        "\n",
        "    def forward(self, t):\n",
        "        return self.alpha[t]"
      ]
    },
    {
      "cell_type": "code",
      "execution_count": 16,
      "metadata": {
        "execution": {
          "iopub.execute_input": "2025-02-09T13:57:43.488594Z",
          "iopub.status.busy": "2025-02-09T13:57:43.488353Z",
          "iopub.status.idle": "2025-02-09T13:57:43.492610Z",
          "shell.execute_reply": "2025-02-09T13:57:43.491863Z",
          "shell.execute_reply.started": "2025-02-09T13:57:43.488575Z"
        },
        "id": "SHcGhW6OJtlK",
        "trusted": true
      },
      "outputs": [],
      "source": [
        "def set_seed(seed=42):\n",
        "    torch.manual_seed(seed)\n",
        "    np.random.seed(seed)\n",
        "    random.seed(seed)"
      ]
    },
    {
      "cell_type": "markdown",
      "metadata": {
        "id": "1vTKVJJu0KTU"
      },
      "source": [
        "### Training"
      ]
    },
    {
      "cell_type": "code",
      "execution_count": 17,
      "metadata": {
        "colab": {
          "base_uri": "https://localhost:8080/"
        },
        "execution": {
          "iopub.execute_input": "2025-02-09T13:57:43.494010Z",
          "iopub.status.busy": "2025-02-09T13:57:43.493740Z",
          "iopub.status.idle": "2025-02-09T13:57:43.509529Z",
          "shell.execute_reply": "2025-02-09T13:57:43.508809Z",
          "shell.execute_reply.started": "2025-02-09T13:57:43.493991Z"
        },
        "id": "YJaJywOLJtlK",
        "outputId": "cb81f22f-75a7-4d53-eb4c-7bf5ac69c841",
        "trusted": true
      },
      "outputs": [],
      "source": [
        "def train(batch_size: int=16,\n",
        "          num_time_steps: int=500,\n",
        "          num_epochs: int=15,\n",
        "          seed: int=-1,\n",
        "          ema_decay: float=0.9999,\n",
        "          lr=2e-5,\n",
        "          data_dir: str='/healthy',\n",
        "          checkpoint_path: str=None):\n",
        "\n",
        "    # Set random seed\n",
        "    seed = random.randint(0, 2**32-1) if seed == -1 else seed\n",
        "    print_log(f\"Random seed set to: {seed}\")\n",
        "    set_seed(seed)\n",
        "\n",
        "    # Load dataset\n",
        "    print_log(\"Loading dataset...\")\n",
        "\n",
        "    train_dataset = BRATSDataset(directory=data_dir)\n",
        "    print_log(f\"Dataset length: {len(train_dataset)}\")\n",
        "\n",
        "    train_loader = DataLoader(train_dataset, batch_size=batch_size, shuffle=True, drop_last=True, num_workers=16, pin_memory=True)\n",
        "\n",
        "    try:\n",
        "        sample_batch = next(iter(train_loader))\n",
        "        print_log(f\"First batch shape: {sample_batch.shape}\")\n",
        "    except Exception as e:\n",
        "        print(f\"[ERROR] DataLoader issue: {e}\")\n",
        "        return\n",
        "\n",
        "    _, H, W = sample_batch.shape[1:]\n",
        "\n",
        "    # Initialize model\n",
        "    scheduler = DDPM_Scheduler(num_time_steps=num_time_steps)\n",
        "    model = UNET(\n",
        "        input_channels=4,\n",
        "        output_channels=4,\n",
        "        Channels=[64, 128, 256, 512, 512, 384] if max(H, W) <= 256 else [32, 64, 128, 256, 256, 192]\n",
        "    ).to(device)\n",
        "\n",
        "    optimizer = optim.Adam(model.parameters(), lr=lr)\n",
        "    ema = ModelEmaV3(model, decay=ema_decay)\n",
        "\n",
        "    # Load checkpoint\n",
        "    if checkpoint_path is not None and os.path.exists(checkpoint_path):\n",
        "        print_log(\"Loading checkpoint...\")\n",
        "        checkpoint = torch.load(checkpoint_path, map_location=\"cpu\")\n",
        "        model.load_state_dict(checkpoint['weights'])\n",
        "        ema.load_state_dict(checkpoint['ema'])\n",
        "        optimizer.load_state_dict(checkpoint['optimizer'])\n",
        "\n",
        "    criterion = nn.MSELoss(reduction='mean')\n",
        "    try:\n",
        "        iteration = 0\n",
        "        print_log(f\"Starting training for {num_epochs} epochs...\")\n",
        "\n",
        "        for i in range(num_epochs):\n",
        "            print_log(f\"Starting epoch {i+1}/{num_epochs}...\")\n",
        "            total_loss = 0\n",
        "\n",
        "            for bidx, x in enumerate(tqdm(train_loader, desc=f\"----------------------------------------------------------------\\nEpoch {i+1}/{num_epochs}\\n\")):\n",
        "                print(\"\")\n",
        "                print_log(f\"Processing batch {bidx+1}/{len(train_loader)}...\")\n",
        "\n",
        "                x = x.to(device)\n",
        "                print_log(f\"Batch shape: {x.shape}\")\n",
        "\n",
        "                # Normalize to [-1, 1]\n",
        "                x = normalize_images(x)\n",
        "\n",
        "                # Resize if necessary\n",
        "                if max(H, W) > 256:\n",
        "                    x = F.interpolate(x, size=(256, 256), mode='bilinear', align_corners=False)\n",
        "\n",
        "                t = torch.randint(0, num_time_steps, (x.shape[0],)).to(device)\n",
        "                e = torch.randn_like(x, requires_grad=False).to(device)\n",
        "                a = scheduler.alpha.to(device)[t].view(x.shape[0], 1, 1, 1)\n",
        "\n",
        "                x = (torch.sqrt(a) * x) + (torch.sqrt(1 - a) * e)\n",
        "\n",
        "                # Apply diffusion\n",
        "                output = model(x, t)\n",
        "                optimizer.zero_grad()\n",
        "                loss = criterion(output, e)\n",
        "\n",
        "                wandb.log(\n",
        "                    {\n",
        "                        \"iteration\": iteration,\n",
        "                        \"loss\": loss.item(),\n",
        "                        \"batch\": bidx+1,\n",
        "                    }\n",
        "                )\n",
        "\n",
        "                iteration += 1\n",
        "                total_loss += loss.item()\n",
        "                print_log(f\"Loss: {loss.item()}\")\n",
        "\n",
        "                loss.backward()\n",
        "                optimizer.step()\n",
        "                ema.update(model)\n",
        "\n",
        "            print_log(f\"Epoch {i+1} | Loss {total_loss / len(train_loader):.5f}\")\n",
        "\n",
        "            wandb.log(\n",
        "                {\n",
        "                    \"epoch\": i+1,\n",
        "                    \"loss\": total_loss / len(train_loader),\n",
        "                }\n",
        "            )\n",
        "\n",
        "            # Save checkpoint every 5 epochs\n",
        "            if (i + 1) % 5 == 0:\n",
        "                save_checkpoint(model, optimizer, ema, f'brats_ddpm_checkpoint_epoch_{i+1}.pth')\n",
        "\n",
        "    except KeyboardInterrupt:\n",
        "        print(\"\\n[WARNING] Training interrupted. Saving last checkpoint...\")\n",
        "        save_checkpoint(model, optimizer, ema, 'brats_ddpm_interrupted_checkpoint.pth')\n",
        "\n",
        "    print_log(\"Training complete.\")\n",
        "    save_checkpoint(model, optimizer, ema, 'brats_ddpm_final_checkpoint.pth')\n"
      ]
    },
    {
      "cell_type": "code",
      "execution_count": 18,
      "metadata": {
        "execution": {
          "iopub.execute_input": "2025-02-09T13:57:43.511395Z",
          "iopub.status.busy": "2025-02-09T13:57:43.511152Z",
          "iopub.status.idle": "2025-02-09T13:57:43.530977Z",
          "shell.execute_reply": "2025-02-09T13:57:43.530192Z",
          "shell.execute_reply.started": "2025-02-09T13:57:43.511376Z"
        },
        "id": "gF-N6JqbJtlL",
        "trusted": true
      },
      "outputs": [],
      "source": [
        "def display_reverse(images: List):\n",
        "    fig, axes = plt.subplots(1, 10, figsize=(10,1))\n",
        "    for i, ax in enumerate(axes.flat):\n",
        "        x = images[i].squeeze(0)\n",
        "        x = rearrange(x, 'c h w -> h w c')\n",
        "        x = x.numpy()\n",
        "        ax.imshow(x)\n",
        "        ax.axis('off')\n",
        "    plt.show()\n",
        "\n",
        "def inference(checkpoint_path: str=None,\n",
        "              num_time_steps: int=1000,\n",
        "              ema_decay: float=0.9999, ):\n",
        "    checkpoint = torch.load(checkpoint_path)\n",
        "    model = UNET().cpu()\n",
        "    model.load_state_dict(checkpoint['weights'])\n",
        "    ema = ModelEmaV3(model, decay=ema_decay)\n",
        "    ema.load_state_dict(checkpoint['ema'])\n",
        "    scheduler = DDPM_Scheduler(num_time_steps=num_time_steps)\n",
        "    times = [0,15,50,100,200,300,400,550,700,999]\n",
        "    images = []\n",
        "\n",
        "    with torch.no_grad():\n",
        "        model = ema.module.eval()\n",
        "        for i in range(10):\n",
        "            z = torch.randn(1, 1, 32, 32)\n",
        "            for t in reversed(range(1, num_time_steps)):\n",
        "                t = [t]\n",
        "                temp = (scheduler.beta[t]/( (torch.sqrt(1-scheduler.alpha[t]))*(torch.sqrt(1-scheduler.beta[t])) ))\n",
        "                z = (1/(torch.sqrt(1-scheduler.beta[t])))*z - (temp*model(z.cpu(),t).cpu())\n",
        "                if t[0] in times:\n",
        "                    images.append(z)\n",
        "                e = torch.randn(1, 1, 32, 32)\n",
        "                z = z + (e*torch.sqrt(scheduler.beta[t]))\n",
        "            temp = scheduler.beta[0]/( (torch.sqrt(1-scheduler.alpha[0]))*(torch.sqrt(1-scheduler.beta[0])) )\n",
        "            x = (1/(torch.sqrt(1-scheduler.beta[0])))*z - (temp*model(z.cpu(),[0]).cpu())\n",
        "\n",
        "            images.append(x)\n",
        "            x = rearrange(x.squeeze(0), 'c h w -> h w c').detach()\n",
        "            x = x.numpy()\n",
        "            plt.imshow(x)\n",
        "            plt.show()\n",
        "            display_reverse(images)\n",
        "            images = []"
      ]
    },
    {
      "cell_type": "markdown",
      "metadata": {
        "id": "-eroMMFH0R9c"
      },
      "source": [
        "### Main"
      ]
    },
    {
      "cell_type": "code",
      "execution_count": 19,
      "metadata": {
        "colab": {
          "base_uri": "https://localhost:8080/"
        },
        "execution": {
          "iopub.execute_input": "2025-02-09T13:57:43.532110Z",
          "iopub.status.busy": "2025-02-09T13:57:43.531840Z",
          "iopub.status.idle": "2025-02-09T13:57:43.967209Z",
          "shell.execute_reply": "2025-02-09T13:57:43.966070Z",
          "shell.execute_reply.started": "2025-02-09T13:57:43.532083Z"
        },
        "id": "-YU-_H59JtlL",
        "outputId": "44080e18-26df-4983-e98c-3f439eaa28d9",
        "trusted": true
      },
      "outputs": [
        {
          "name": "stdout",
          "output_type": "stream",
          "text": [
            "Training for only 100 epochs!\n",
            "[Log] Random seed set to: 833225897\n",
            "[Log] Loading dataset...\n",
            "[Log] Dataset length: 0\n"
          ]
        },
        {
          "ename": "ValueError",
          "evalue": "num_samples should be a positive integer value, but got num_samples=0",
          "output_type": "error",
          "traceback": [
            "\u001b[0;31m---------------------------------------------------------------------------\u001b[0m",
            "\u001b[0;31mValueError\u001b[0m                                Traceback (most recent call last)",
            "Cell \u001b[0;32mIn[19], line 19\u001b[0m\n\u001b[1;32m     16\u001b[0m     \u001b[38;5;66;03m# inference(os.path.join(CHECKPOINT_DIR, \"ddpm_checkpoint\"))\u001b[39;00m\n\u001b[1;32m     18\u001b[0m \u001b[38;5;28;01mif\u001b[39;00m \u001b[38;5;18m__name__\u001b[39m \u001b[38;5;241m==\u001b[39m \u001b[38;5;124m'\u001b[39m\u001b[38;5;124m__main__\u001b[39m\u001b[38;5;124m'\u001b[39m:\n\u001b[0;32m---> 19\u001b[0m     \u001b[43mmain\u001b[49m\u001b[43m(\u001b[49m\u001b[43m)\u001b[49m\n",
            "Cell \u001b[0;32mIn[19], line 9\u001b[0m, in \u001b[0;36mmain\u001b[0;34m()\u001b[0m\n\u001b[1;32m      8\u001b[0m \u001b[38;5;28;01mdef\u001b[39;00m \u001b[38;5;21mmain\u001b[39m():\n\u001b[0;32m----> 9\u001b[0m     \u001b[43mtrain\u001b[49m\u001b[43m(\u001b[49m\n\u001b[1;32m     10\u001b[0m \u001b[43m        \u001b[49m\u001b[43mdata_dir\u001b[49m\u001b[38;5;241;43m=\u001b[39;49m\u001b[38;5;124;43m\"\u001b[39;49m\u001b[38;5;124;43m../healthy\u001b[39;49m\u001b[38;5;124;43m\"\u001b[39;49m\u001b[43m,\u001b[49m\n\u001b[1;32m     11\u001b[0m \u001b[43m        \u001b[49m\u001b[43mbatch_size\u001b[49m\u001b[38;5;241;43m=\u001b[39;49m\u001b[38;5;241;43m2\u001b[39;49m\u001b[43m,\u001b[49m\n\u001b[1;32m     12\u001b[0m \u001b[43m        \u001b[49m\u001b[43mcheckpoint_path\u001b[49m\u001b[38;5;241;43m=\u001b[39;49m\u001b[38;5;28;43;01mNone\u001b[39;49;00m\u001b[43m,\u001b[49m\n\u001b[1;32m     13\u001b[0m \u001b[43m        \u001b[49m\u001b[43mlr\u001b[49m\u001b[38;5;241;43m=\u001b[39;49m\u001b[38;5;241;43m1e-4\u001b[39;49m\u001b[43m,\u001b[49m\n\u001b[1;32m     14\u001b[0m \u001b[43m        \u001b[49m\u001b[43mnum_epochs\u001b[49m\u001b[38;5;241;43m=\u001b[39;49m\u001b[43mnum_epochs\u001b[49m\n\u001b[1;32m     15\u001b[0m \u001b[43m    \u001b[49m\u001b[43m)\u001b[49m\n",
            "Cell \u001b[0;32mIn[17], line 21\u001b[0m, in \u001b[0;36mtrain\u001b[0;34m(batch_size, num_time_steps, num_epochs, seed, ema_decay, lr, data_dir, checkpoint_path)\u001b[0m\n\u001b[1;32m     18\u001b[0m train_dataset \u001b[38;5;241m=\u001b[39m BRATSDataset(directory\u001b[38;5;241m=\u001b[39mdata_dir)\n\u001b[1;32m     19\u001b[0m print_log(\u001b[38;5;124mf\u001b[39m\u001b[38;5;124m\"\u001b[39m\u001b[38;5;124mDataset length: \u001b[39m\u001b[38;5;132;01m{\u001b[39;00m\u001b[38;5;28mlen\u001b[39m(train_dataset)\u001b[38;5;132;01m}\u001b[39;00m\u001b[38;5;124m\"\u001b[39m)\n\u001b[0;32m---> 21\u001b[0m train_loader \u001b[38;5;241m=\u001b[39m \u001b[43mDataLoader\u001b[49m\u001b[43m(\u001b[49m\u001b[43mtrain_dataset\u001b[49m\u001b[43m,\u001b[49m\u001b[43m \u001b[49m\u001b[43mbatch_size\u001b[49m\u001b[38;5;241;43m=\u001b[39;49m\u001b[43mbatch_size\u001b[49m\u001b[43m,\u001b[49m\u001b[43m \u001b[49m\u001b[43mshuffle\u001b[49m\u001b[38;5;241;43m=\u001b[39;49m\u001b[38;5;28;43;01mTrue\u001b[39;49;00m\u001b[43m,\u001b[49m\u001b[43m \u001b[49m\u001b[43mdrop_last\u001b[49m\u001b[38;5;241;43m=\u001b[39;49m\u001b[38;5;28;43;01mTrue\u001b[39;49;00m\u001b[43m,\u001b[49m\u001b[43m \u001b[49m\u001b[43mnum_workers\u001b[49m\u001b[38;5;241;43m=\u001b[39;49m\u001b[38;5;241;43m16\u001b[39;49m\u001b[43m,\u001b[49m\u001b[43m \u001b[49m\u001b[43mpin_memory\u001b[49m\u001b[38;5;241;43m=\u001b[39;49m\u001b[38;5;28;43;01mTrue\u001b[39;49;00m\u001b[43m)\u001b[49m\n\u001b[1;32m     23\u001b[0m \u001b[38;5;28;01mtry\u001b[39;00m:\n\u001b[1;32m     24\u001b[0m     sample_batch \u001b[38;5;241m=\u001b[39m \u001b[38;5;28mnext\u001b[39m(\u001b[38;5;28miter\u001b[39m(train_loader))\n",
            "File \u001b[0;32m~/.virtualenvs/fyp/lib/python3.11/site-packages/torch/utils/data/dataloader.py:383\u001b[0m, in \u001b[0;36mDataLoader.__init__\u001b[0;34m(self, dataset, batch_size, shuffle, sampler, batch_sampler, num_workers, collate_fn, pin_memory, drop_last, timeout, worker_init_fn, multiprocessing_context, generator, prefetch_factor, persistent_workers, pin_memory_device, in_order)\u001b[0m\n\u001b[1;32m    381\u001b[0m \u001b[38;5;28;01melse\u001b[39;00m:  \u001b[38;5;66;03m# map-style\u001b[39;00m\n\u001b[1;32m    382\u001b[0m     \u001b[38;5;28;01mif\u001b[39;00m shuffle:\n\u001b[0;32m--> 383\u001b[0m         sampler \u001b[38;5;241m=\u001b[39m \u001b[43mRandomSampler\u001b[49m\u001b[43m(\u001b[49m\u001b[43mdataset\u001b[49m\u001b[43m,\u001b[49m\u001b[43m \u001b[49m\u001b[43mgenerator\u001b[49m\u001b[38;5;241;43m=\u001b[39;49m\u001b[43mgenerator\u001b[49m\u001b[43m)\u001b[49m  \u001b[38;5;66;03m# type: ignore[arg-type]\u001b[39;00m\n\u001b[1;32m    384\u001b[0m     \u001b[38;5;28;01melse\u001b[39;00m:\n\u001b[1;32m    385\u001b[0m         sampler \u001b[38;5;241m=\u001b[39m SequentialSampler(dataset)  \u001b[38;5;66;03m# type: ignore[arg-type]\u001b[39;00m\n",
            "File \u001b[0;32m~/.virtualenvs/fyp/lib/python3.11/site-packages/torch/utils/data/sampler.py:165\u001b[0m, in \u001b[0;36mRandomSampler.__init__\u001b[0;34m(self, data_source, replacement, num_samples, generator)\u001b[0m\n\u001b[1;32m    160\u001b[0m     \u001b[38;5;28;01mraise\u001b[39;00m \u001b[38;5;167;01mTypeError\u001b[39;00m(\n\u001b[1;32m    161\u001b[0m         \u001b[38;5;124mf\u001b[39m\u001b[38;5;124m\"\u001b[39m\u001b[38;5;124mreplacement should be a boolean value, but got replacement=\u001b[39m\u001b[38;5;132;01m{\u001b[39;00m\u001b[38;5;28mself\u001b[39m\u001b[38;5;241m.\u001b[39mreplacement\u001b[38;5;132;01m}\u001b[39;00m\u001b[38;5;124m\"\u001b[39m\n\u001b[1;32m    162\u001b[0m     )\n\u001b[1;32m    164\u001b[0m \u001b[38;5;28;01mif\u001b[39;00m \u001b[38;5;129;01mnot\u001b[39;00m \u001b[38;5;28misinstance\u001b[39m(\u001b[38;5;28mself\u001b[39m\u001b[38;5;241m.\u001b[39mnum_samples, \u001b[38;5;28mint\u001b[39m) \u001b[38;5;129;01mor\u001b[39;00m \u001b[38;5;28mself\u001b[39m\u001b[38;5;241m.\u001b[39mnum_samples \u001b[38;5;241m<\u001b[39m\u001b[38;5;241m=\u001b[39m \u001b[38;5;241m0\u001b[39m:\n\u001b[0;32m--> 165\u001b[0m     \u001b[38;5;28;01mraise\u001b[39;00m \u001b[38;5;167;01mValueError\u001b[39;00m(\n\u001b[1;32m    166\u001b[0m         \u001b[38;5;124mf\u001b[39m\u001b[38;5;124m\"\u001b[39m\u001b[38;5;124mnum_samples should be a positive integer value, but got num_samples=\u001b[39m\u001b[38;5;132;01m{\u001b[39;00m\u001b[38;5;28mself\u001b[39m\u001b[38;5;241m.\u001b[39mnum_samples\u001b[38;5;132;01m}\u001b[39;00m\u001b[38;5;124m\"\u001b[39m\n\u001b[1;32m    167\u001b[0m     )\n",
            "\u001b[0;31mValueError\u001b[0m: num_samples should be a positive integer value, but got num_samples=0"
          ]
        }
      ],
      "source": [
        "# Define paths\n",
        "CHECKPOINT_DIR = \"../checkpoints\"\n",
        "# os.makedirs(CHECKPOINT_DIR, exist_ok=True)\n",
        "num_epochs = 100\n",
        "\n",
        "print(f\"Training for only {num_epochs} epochs!\")\n",
        "\n",
        "def main():\n",
        "    train(\n",
        "        data_dir=\"../healthy\",\n",
        "        batch_size=2,\n",
        "        checkpoint_path=None,\n",
        "        lr=1e-4,\n",
        "        num_epochs=num_epochs\n",
        "    )\n",
        "    # inference(os.path.join(CHECKPOINT_DIR, \"ddpm_checkpoint\"))\n",
        "\n",
        "if __name__ == '__main__':\n",
        "    main()"
      ]
    },
    {
      "cell_type": "code",
      "execution_count": null,
      "metadata": {},
      "outputs": [],
      "source": []
    },
    {
      "cell_type": "markdown",
      "metadata": {
        "id": "C9jjrVaS0UCm"
      },
      "source": [
        "### Debug"
      ]
    },
    {
      "cell_type": "code",
      "execution_count": 19,
      "metadata": {
        "colab": {
          "base_uri": "https://localhost:8080/"
        },
        "id": "1FdlH2yWJtlL",
        "outputId": "4c06b0f6-5a2c-4649-87bf-7454751dc5c0"
      },
      "outputs": [
        {
          "name": "stdout",
          "output_type": "stream",
          "text": [
            "[DEBUG] Dataset length: 5680\n",
            "[DEBUG] First batch loaded: torch.Size([2, 4, 128, 128])\n"
          ]
        }
      ],
      "source": [
        "# Debug dataset loading\n",
        "train_dataset = BRATSDataset(directory=\"/content/data/healthy\")\n",
        "print(\"[DEBUG] Dataset length:\", len(train_dataset))\n",
        "\n",
        "# Try loading a single batch\n",
        "train_loader = DataLoader(train_dataset, batch_size=2, shuffle=True, drop_last=True, num_workers=0)  # Reduce num_workers\n",
        "x = next(iter(train_loader))  # Try fetching one batch\n",
        "x = x.to(device).float()  # Move batch to GPU\n",
        "print(\"[DEBUG] First batch loaded:\", x.shape)"
      ]
    },
    {
      "cell_type": "code",
      "execution_count": 20,
      "metadata": {
        "colab": {
          "base_uri": "https://localhost:8080/"
        },
        "id": "XyJd5_HD_oI4",
        "outputId": "e33158e8-1c9a-4bd3-e115-1cdfafaa8502"
      },
      "outputs": [
        {
          "name": "stdout",
          "output_type": "stream",
          "text": [
            "[DEBUG] Model initialized successfully.\n"
          ]
        }
      ],
      "source": [
        "scheduler = DDPM_Scheduler(num_time_steps=1000)\n",
        "\n",
        "# Move model to GPU\n",
        "model = UNET(\n",
        "          input_channels=4,\n",
        "          output_channels=4,\n",
        "          Channels=[64, 128, 256, 512, 512, 384]\n",
        "      ).to(device)  # Move model to GPU\n",
        "\n",
        "print(\"[DEBUG] Model initialized successfully.\")"
      ]
    },
    {
      "cell_type": "code",
      "execution_count": 21,
      "metadata": {
        "colab": {
          "base_uri": "https://localhost:8080/"
        },
        "id": "ev3ogbisbvlo",
        "outputId": "4aea0cb4-9ca1-45c1-80f9-8ffcd490b5c5"
      },
      "outputs": [
        {
          "name": "stdout",
          "output_type": "stream",
          "text": [
            "[DEBUG] Running model forward pass...\n",
            "[DEBUG] Forward pass successful, output shape: torch.Size([2, 4, 128, 128])\n"
          ]
        }
      ],
      "source": [
        "# Load a batch and move to GPU\n",
        "x = next(iter(train_loader)).to(device).float()\n",
        "t = torch.randint(0, 500, (x.shape[0],)).to(device)\n",
        "\n",
        "print(\"[DEBUG] Running model forward pass...\")\n",
        "# output = model(x, t)  # Forward pass\n",
        "print(\"[DEBUG] Forward pass successful, output shape:\", output.shape)"
      ]
    },
    {
      "cell_type": "markdown",
      "metadata": {},
      "source": [
        "## Sampling"
      ]
    },
    {
      "cell_type": "markdown",
      "metadata": {},
      "source": [
        "### Forward Process"
      ]
    },
    {
      "cell_type": "code",
      "execution_count": 176,
      "metadata": {},
      "outputs": [],
      "source": [
        "def forward_process(image, t, scheduler, device):\n",
        "    \"\"\"Applies forward diffusion to an image at time step t.\"\"\"\n",
        "    image = normalize_images(image).to(device)\n",
        "    a = scheduler.alpha[t-1].view(1, 1, 1, 1).to(device)\n",
        "    e = torch.randn_like(image, device=device)  # Sample noise\n",
        "    noisy_image = torch.sqrt(a) * image + torch.sqrt(1 - a) * e\n",
        "    return noisy_image"
      ]
    },
    {
      "cell_type": "markdown",
      "metadata": {},
      "source": [
        "### Reverse Process"
      ]
    },
    {
      "cell_type": "code",
      "execution_count": 177,
      "metadata": {},
      "outputs": [],
      "source": [
        "def reverse_process(x_noisy, start_t, scheduler, model, device):\n",
        "    \"\"\"Performs reverse diffusion (denoising) from a noisy image.\"\"\"\n",
        "    x = x_noisy.clone().to(device)\n",
        "    \n",
        "    # Perform reverse diffusion process\n",
        "    for t in range(start_t, 0, -1):\n",
        "        print(f\"Processing time step {t}...\")\n",
        "        t_tensor = torch.tensor([t-1], device=device)\n",
        "        noise_pred = model(x, t_tensor)\n",
        "\n",
        "        a = scheduler.alpha[t-1].view(1, 1, 1, 1).to(device)\n",
        "        beta_t = scheduler.beta[t-1].view(1, 1, 1, 1).to(device)\n",
        "\n",
        "        # reverse step\n",
        "        x = (x - (beta_t / torch.sqrt(1 - a)) * noise_pred) / torch.sqrt(1 - beta_t)\n",
        "\n",
        "        # Add noise for stochasticity\n",
        "        # if t > 0:  \n",
        "        #     noise = torch.randn_like(x, device=device)\n",
        "        #     x = x + noise * torch.sqrt(beta_t)\n",
        "\n",
        "    return x"
      ]
    },
    {
      "cell_type": "markdown",
      "metadata": {},
      "source": [
        "### Sample and Evaluate"
      ]
    },
    {
      "cell_type": "code",
      "execution_count": 178,
      "metadata": {},
      "outputs": [],
      "source": [
        "import matplotlib.pyplot as plt\n",
        "\n",
        "def save_image(tensor, path, cmap='gray'):\n",
        "    \"\"\"Save a tensor as an image.\"\"\"\n",
        "    plt.imsave(path, tensor.cpu().numpy(), cmap=cmap)\n",
        "\n",
        "def evaluate(model, dataloader, scheduler, num_time_steps, output_dir=\"output\"):\n",
        "    dice_scores, auroc_scores = [], []\n",
        "    all_results = []  # Store results for each data item\n",
        "\n",
        "    # Create output directory if it doesn't exist\n",
        "    os.makedirs(output_dir, exist_ok=True)\n",
        "\n",
        "    with torch.no_grad():\n",
        "        for idx, (image, ground_truth_seg) in enumerate(tqdm(dataloader, desc=\"Evaluating\")):\n",
        "            try:\n",
        "                image = image.to(device)\n",
        "                ground_truth_seg = ground_truth_seg.squeeze(0).to(device)\n",
        "\n",
        "                # Forward diffusion\n",
        "                noisy_image = forward_process(image=image, t=num_time_steps, scheduler=scheduler, device=device)\n",
        "                \n",
        "                # Reverse diffusion (denoising)\n",
        "                output = reverse_process(x_noisy=noisy_image, start_t=num_time_steps, scheduler=scheduler, model=model, device=device)\n",
        "\n",
        "                # Compute anomaly map\n",
        "                image, output = image.squeeze(0), output.squeeze(0)\n",
        "                # print(\"Computing anomaly map...\", image.shape, output.shape)\n",
        "                anomaly_map = torch.abs(visualize_image(image) - visualize_image(output)).sum(dim=0)\n",
        "                # print(\"Anomaly shape:\", anomaly_map.shape)\n",
        "\n",
        "                # Apply Otsu thresholding\n",
        "                binary_mask = apply_otsu_thresholding(anomaly_map)\n",
        "                ground_truth_mask = (ground_truth_seg > 0).float()\n",
        "\n",
        "                # Compute Dice score\n",
        "                # print(\"Computing Dice score...\")\n",
        "                dice = dice_score(binary_mask, ground_truth_mask)\n",
        "\n",
        "                # Flatten anomaly map and ground truth for AUROC calculation\n",
        "                pixel_wise_cls = anomaly_map.flatten().cpu().numpy()\n",
        "                pixel_wise_gt = ground_truth_mask.flatten().cpu().numpy()\n",
        "\n",
        "                # Compute AUROC\n",
        "                # print(\"Computing AUROC...\")\n",
        "                print(pixel_wise_cls.shape, pixel_wise_gt.shape)\n",
        "                auroc = roc_auc_score(pixel_wise_gt, pixel_wise_cls)\n",
        "\n",
        "                # Save images\n",
        "                # print(\"Saving images...\")\n",
        "                # print(\"Ground truth shape:\", ground_truth_seg.shape)\n",
        "                # print(\"Anomaly map shape:\", anomaly_map.shape)\n",
        "                save_image(ground_truth_seg, os.path.join(output_dir, f\"ground_truth_{idx}.png\"), \"gray\")\n",
        "                # save_image(output[0], os.path.join(output_dir, f\"model_output_{idx}.png\"))\n",
        "                save_image(anomaly_map, os.path.join(output_dir, f\"anomaly_map_{idx}.png\"), \"hot\")\n",
        "\n",
        "                # Save individual result\n",
        "                all_results.append({\"sample_idx\": idx, \"dice\": dice, \"auroc\": auroc})\n",
        "                # all_results.append({\"sample_idx\": idx, \"dice\": dice, \"auroc\": 0})\n",
        "                \n",
        "                dice_scores.append(dice)\n",
        "                auroc_scores.append(auroc)\n",
        "                \n",
        "            except Exception as e:\n",
        "                print(f\"Error processing batch {idx}: {e}\")\n",
        "                continue\n",
        "\n",
        "    if not dice_scores:\n",
        "        print(\"No results found.\")\n",
        "        return 0.0, 0.0, []\n",
        "        \n",
        "    return np.mean(dice_scores), np.mean(auroc_scores), all_results\n"
      ]
    },
    {
      "cell_type": "markdown",
      "metadata": {},
      "source": [
        "### Validate Checkpoints"
      ]
    },
    {
      "cell_type": "code",
      "execution_count": 179,
      "metadata": {},
      "outputs": [],
      "source": [
        "# Initialize the model\n",
        "model = UNET(\n",
        "    output_channels=4,\n",
        "    input_channels=4,\n",
        "    Channels=[64, 128, 256, 512, 512, 384],\n",
        "    time_steps=500\n",
        ").to(device)\n",
        "\n",
        "def test_checkpoints(val_data_path, checkpoint_dir, batch_numbers, scheduler, num_time_steps):\n",
        "    val_dataset = BRATSDataset(directory=val_data_path, test_flag=True)\n",
        "    val_loader = DataLoader(val_dataset, batch_size=1, shuffle=False)\n",
        "    \n",
        "    log_file = open(\"checkpoint_scores.log\", \"w\")\n",
        "    detailed_log_file = open(\"detailed_checkpoint_scores.log\", \"w\")\n",
        "    best_checkpoint, best_dice = None, 0\n",
        "\n",
        "    try:\n",
        "        for batch_number in batch_numbers:\n",
        "            for checkpoint in sorted(os.listdir(checkpoint_dir)):\n",
        "                if f\"epoch_{batch_number}\" in checkpoint:\n",
        "                    print(f\"\\nTesting {checkpoint}\")\n",
        "\n",
        "                    checkpoint_path = os.path.join(checkpoint_dir, checkpoint)\n",
        "                    checkpoint_data = torch.load(checkpoint_path, map_location=device)\n",
        "                    model.load_state_dict(checkpoint_data[\"weights\"])\n",
        "                    model.eval()\n",
        "\n",
        "                    avg_dice, avg_auroc, all_results = evaluate(model, val_loader, scheduler, num_time_steps=num_time_steps)\n",
        "\n",
        "                    # Log summary stats\n",
        "                    log_entry = f\"Checkpoint: {checkpoint} | Dice: {avg_dice:.4f} | AUROC: {avg_auroc:.4f}\\n\"\n",
        "                    print(log_entry)\n",
        "                    log_file.write(log_entry)\n",
        "                    \n",
        "                    # Log detailed results\n",
        "                    detailed_log_file.write(f\"\\n========== Checkpoint: {checkpoint} ==========\\n\")\n",
        "                    detailed_log_file.write(\"Sample_idx, Dice, AUROC\\n\")\n",
        "                    for result in all_results:\n",
        "                        detailed_log_file.write(f\"{result['sample_idx']}, {result['dice']:.4f}, {result['auroc']:.4f}\\n\")\n",
        "                    detailed_log_file.write(f\"AVERAGE, {avg_dice:.4f}, {avg_auroc:.4f}\\n\")\n",
        "                    detailed_log_file.write(\"=========================================\\n\")\n",
        "\n",
        "                    if avg_dice > best_dice:\n",
        "                        best_dice = avg_dice\n",
        "                        best_checkpoint = checkpoint\n",
        "\n",
        "                    torch.cuda.empty_cache()\n",
        "    finally:\n",
        "        log_file.close()\n",
        "        detailed_log_file.close()\n",
        "        print(f\"\\nBest Checkpoint: {best_checkpoint} with Dice: {best_dice:.4f}\")"
      ]
    },
    {
      "cell_type": "markdown",
      "metadata": {},
      "source": [
        "### Test"
      ]
    },
    {
      "cell_type": "code",
      "execution_count": 184,
      "metadata": {},
      "outputs": [
        {
          "name": "stdout",
          "output_type": "stream",
          "text": [
            "[Log] Using 400 time steps.\n",
            "\n",
            "Testing brats_ddpm_checkpoint_epoch_40.pth\n"
          ]
        },
        {
          "name": "stderr",
          "output_type": "stream",
          "text": [
            "Evaluating:   0%|          | 0/1 [00:00<?, ?it/s]"
          ]
        },
        {
          "name": "stdout",
          "output_type": "stream",
          "text": [
            "Processing time step 400...\n",
            "Processing time step 399...\n",
            "Processing time step 398...\n",
            "Processing time step 397...\n",
            "Processing time step 396...\n",
            "Processing time step 395...\n",
            "Processing time step 394...\n",
            "Processing time step 393...\n",
            "Processing time step 392...\n",
            "Processing time step 391...\n",
            "Processing time step 390...\n",
            "Processing time step 389...\n",
            "Processing time step 388...\n",
            "Processing time step 387...\n",
            "Processing time step 386...\n",
            "Processing time step 385...\n",
            "Processing time step 384...\n",
            "Processing time step 383...\n",
            "Processing time step 382...\n",
            "Processing time step 381...\n",
            "Processing time step 380...\n",
            "Processing time step 379...\n",
            "Processing time step 378...\n",
            "Processing time step 377...\n",
            "Processing time step 376...\n",
            "Processing time step 375...\n",
            "Processing time step 374...\n",
            "Processing time step 373...\n",
            "Processing time step 372...\n",
            "Processing time step 371...\n",
            "Processing time step 370...\n",
            "Processing time step 369...\n",
            "Processing time step 368...\n",
            "Processing time step 367...\n",
            "Processing time step 366...\n",
            "Processing time step 365...\n",
            "Processing time step 364...\n",
            "Processing time step 363...\n",
            "Processing time step 362...\n",
            "Processing time step 361...\n",
            "Processing time step 360...\n",
            "Processing time step 359...\n",
            "Processing time step 358...\n",
            "Processing time step 357...\n",
            "Processing time step 356...\n",
            "Processing time step 355...\n",
            "Processing time step 354...\n",
            "Processing time step 353...\n",
            "Processing time step 352...\n",
            "Processing time step 351...\n",
            "Processing time step 350...\n",
            "Processing time step 349...\n",
            "Processing time step 348...\n",
            "Processing time step 347...\n",
            "Processing time step 346...\n",
            "Processing time step 345...\n",
            "Processing time step 344...\n",
            "Processing time step 343...\n",
            "Processing time step 342...\n",
            "Processing time step 341...\n",
            "Processing time step 340...\n",
            "Processing time step 339...\n",
            "Processing time step 338...\n",
            "Processing time step 337...\n",
            "Processing time step 336...\n",
            "Processing time step 335...\n",
            "Processing time step 334...\n",
            "Processing time step 333...\n",
            "Processing time step 332...\n",
            "Processing time step 331...\n",
            "Processing time step 330...\n",
            "Processing time step 329...\n",
            "Processing time step 328...\n",
            "Processing time step 327...\n",
            "Processing time step 326...\n",
            "Processing time step 325...\n",
            "Processing time step 324...\n",
            "Processing time step 323...\n",
            "Processing time step 322...\n",
            "Processing time step 321...\n",
            "Processing time step 320...\n",
            "Processing time step 319...\n",
            "Processing time step 318...\n",
            "Processing time step 317...\n",
            "Processing time step 316...\n",
            "Processing time step 315...\n",
            "Processing time step 314...\n",
            "Processing time step 313...\n",
            "Processing time step 312...\n",
            "Processing time step 311...\n",
            "Processing time step 310...\n",
            "Processing time step 309...\n",
            "Processing time step 308...\n",
            "Processing time step 307...\n",
            "Processing time step 306...\n",
            "Processing time step 305...\n",
            "Processing time step 304...\n",
            "Processing time step 303...\n",
            "Processing time step 302...\n",
            "Processing time step 301...\n",
            "Processing time step 300...\n",
            "Processing time step 299...\n",
            "Processing time step 298...\n",
            "Processing time step 297...\n",
            "Processing time step 296...\n",
            "Processing time step 295...\n",
            "Processing time step 294...\n",
            "Processing time step 293...\n",
            "Processing time step 292...\n",
            "Processing time step 291...\n",
            "Processing time step 290...\n",
            "Processing time step 289...\n",
            "Processing time step 288...\n",
            "Processing time step 287...\n",
            "Processing time step 286...\n",
            "Processing time step 285...\n",
            "Processing time step 284...\n",
            "Processing time step 283...\n",
            "Processing time step 282...\n",
            "Processing time step 281...\n",
            "Processing time step 280...\n",
            "Processing time step 279...\n",
            "Processing time step 278...\n",
            "Processing time step 277...\n",
            "Processing time step 276...\n",
            "Processing time step 275...\n",
            "Processing time step 274...\n",
            "Processing time step 273...\n",
            "Processing time step 272...\n",
            "Processing time step 271...\n",
            "Processing time step 270...\n",
            "Processing time step 269...\n",
            "Processing time step 268...\n",
            "Processing time step 267...\n",
            "Processing time step 266...\n",
            "Processing time step 265...\n",
            "Processing time step 264...\n",
            "Processing time step 263...\n",
            "Processing time step 262...\n",
            "Processing time step 261...\n",
            "Processing time step 260...\n",
            "Processing time step 259...\n",
            "Processing time step 258...\n",
            "Processing time step 257...\n",
            "Processing time step 256...\n",
            "Processing time step 255...\n",
            "Processing time step 254...\n",
            "Processing time step 253...\n",
            "Processing time step 252...\n",
            "Processing time step 251...\n",
            "Processing time step 250...\n",
            "Processing time step 249...\n",
            "Processing time step 248...\n",
            "Processing time step 247...\n",
            "Processing time step 246...\n",
            "Processing time step 245...\n",
            "Processing time step 244...\n",
            "Processing time step 243...\n",
            "Processing time step 242...\n",
            "Processing time step 241...\n",
            "Processing time step 240...\n",
            "Processing time step 239...\n",
            "Processing time step 238...\n",
            "Processing time step 237...\n",
            "Processing time step 236...\n",
            "Processing time step 235...\n",
            "Processing time step 234...\n",
            "Processing time step 233...\n",
            "Processing time step 232...\n",
            "Processing time step 231...\n",
            "Processing time step 230...\n",
            "Processing time step 229...\n",
            "Processing time step 228...\n",
            "Processing time step 227...\n",
            "Processing time step 226...\n",
            "Processing time step 225...\n",
            "Processing time step 224...\n",
            "Processing time step 223...\n",
            "Processing time step 222...\n",
            "Processing time step 221...\n",
            "Processing time step 220...\n",
            "Processing time step 219...\n",
            "Processing time step 218...\n",
            "Processing time step 217...\n",
            "Processing time step 216...\n",
            "Processing time step 215...\n",
            "Processing time step 214...\n",
            "Processing time step 213...\n",
            "Processing time step 212...\n",
            "Processing time step 211...\n",
            "Processing time step 210...\n",
            "Processing time step 209...\n",
            "Processing time step 208...\n",
            "Processing time step 207...\n",
            "Processing time step 206...\n",
            "Processing time step 205...\n",
            "Processing time step 204...\n",
            "Processing time step 203...\n",
            "Processing time step 202...\n",
            "Processing time step 201...\n",
            "Processing time step 200...\n",
            "Processing time step 199...\n",
            "Processing time step 198...\n",
            "Processing time step 197...\n",
            "Processing time step 196...\n",
            "Processing time step 195...\n",
            "Processing time step 194...\n",
            "Processing time step 193...\n",
            "Processing time step 192...\n",
            "Processing time step 191...\n",
            "Processing time step 190...\n",
            "Processing time step 189...\n",
            "Processing time step 188...\n",
            "Processing time step 187...\n",
            "Processing time step 186...\n",
            "Processing time step 185...\n",
            "Processing time step 184...\n",
            "Processing time step 183...\n",
            "Processing time step 182...\n",
            "Processing time step 181...\n",
            "Processing time step 180...\n",
            "Processing time step 179...\n",
            "Processing time step 178...\n",
            "Processing time step 177...\n",
            "Processing time step 176...\n",
            "Processing time step 175...\n",
            "Processing time step 174...\n",
            "Processing time step 173...\n",
            "Processing time step 172...\n",
            "Processing time step 171...\n",
            "Processing time step 170...\n",
            "Processing time step 169...\n",
            "Processing time step 168...\n",
            "Processing time step 167...\n",
            "Processing time step 166...\n",
            "Processing time step 165...\n",
            "Processing time step 164...\n",
            "Processing time step 163...\n",
            "Processing time step 162...\n",
            "Processing time step 161...\n",
            "Processing time step 160...\n",
            "Processing time step 159...\n",
            "Processing time step 158...\n",
            "Processing time step 157...\n",
            "Processing time step 156...\n",
            "Processing time step 155...\n",
            "Processing time step 154...\n",
            "Processing time step 153...\n",
            "Processing time step 152...\n",
            "Processing time step 151...\n",
            "Processing time step 150...\n",
            "Processing time step 149...\n",
            "Processing time step 148...\n",
            "Processing time step 147...\n",
            "Processing time step 146...\n",
            "Processing time step 145...\n",
            "Processing time step 144...\n",
            "Processing time step 143...\n",
            "Processing time step 142...\n",
            "Processing time step 141...\n",
            "Processing time step 140...\n",
            "Processing time step 139...\n",
            "Processing time step 138...\n",
            "Processing time step 137...\n",
            "Processing time step 136...\n",
            "Processing time step 135...\n",
            "Processing time step 134...\n",
            "Processing time step 133...\n",
            "Processing time step 132...\n",
            "Processing time step 131...\n",
            "Processing time step 130...\n",
            "Processing time step 129...\n",
            "Processing time step 128...\n",
            "Processing time step 127...\n",
            "Processing time step 126...\n",
            "Processing time step 125...\n",
            "Processing time step 124...\n",
            "Processing time step 123...\n",
            "Processing time step 122...\n",
            "Processing time step 121...\n",
            "Processing time step 120...\n",
            "Processing time step 119...\n",
            "Processing time step 118...\n",
            "Processing time step 117...\n",
            "Processing time step 116...\n",
            "Processing time step 115...\n",
            "Processing time step 114...\n",
            "Processing time step 113...\n",
            "Processing time step 112...\n",
            "Processing time step 111...\n",
            "Processing time step 110...\n",
            "Processing time step 109...\n",
            "Processing time step 108...\n",
            "Processing time step 107...\n",
            "Processing time step 106...\n",
            "Processing time step 105...\n",
            "Processing time step 104...\n",
            "Processing time step 103...\n",
            "Processing time step 102...\n",
            "Processing time step 101...\n",
            "Processing time step 100...\n",
            "Processing time step 99...\n",
            "Processing time step 98...\n",
            "Processing time step 97...\n",
            "Processing time step 96...\n",
            "Processing time step 95...\n",
            "Processing time step 94...\n",
            "Processing time step 93...\n",
            "Processing time step 92...\n",
            "Processing time step 91...\n",
            "Processing time step 90...\n",
            "Processing time step 89...\n",
            "Processing time step 88...\n",
            "Processing time step 87...\n",
            "Processing time step 86...\n",
            "Processing time step 85...\n",
            "Processing time step 84...\n",
            "Processing time step 83...\n",
            "Processing time step 82...\n",
            "Processing time step 81...\n",
            "Processing time step 80...\n",
            "Processing time step 79...\n",
            "Processing time step 78...\n",
            "Processing time step 77...\n",
            "Processing time step 76...\n",
            "Processing time step 75...\n",
            "Processing time step 74...\n",
            "Processing time step 73...\n",
            "Processing time step 72...\n",
            "Processing time step 71...\n",
            "Processing time step 70...\n",
            "Processing time step 69...\n",
            "Processing time step 68...\n",
            "Processing time step 67...\n",
            "Processing time step 66...\n",
            "Processing time step 65...\n",
            "Processing time step 64...\n",
            "Processing time step 63...\n",
            "Processing time step 62...\n",
            "Processing time step 61...\n",
            "Processing time step 60...\n",
            "Processing time step 59...\n",
            "Processing time step 58...\n",
            "Processing time step 57...\n",
            "Processing time step 56...\n",
            "Processing time step 55...\n",
            "Processing time step 54...\n",
            "Processing time step 53...\n",
            "Processing time step 52...\n",
            "Processing time step 51...\n",
            "Processing time step 50...\n",
            "Processing time step 49...\n",
            "Processing time step 48...\n",
            "Processing time step 47...\n",
            "Processing time step 46...\n",
            "Processing time step 45...\n",
            "Processing time step 44...\n",
            "Processing time step 43...\n",
            "Processing time step 42...\n",
            "Processing time step 41...\n",
            "Processing time step 40...\n",
            "Processing time step 39...\n",
            "Processing time step 38...\n",
            "Processing time step 37...\n",
            "Processing time step 36...\n",
            "Processing time step 35...\n",
            "Processing time step 34...\n",
            "Processing time step 33...\n",
            "Processing time step 32...\n",
            "Processing time step 31...\n",
            "Processing time step 30...\n",
            "Processing time step 29...\n",
            "Processing time step 28...\n",
            "Processing time step 27...\n",
            "Processing time step 26...\n",
            "Processing time step 25...\n",
            "Processing time step 24...\n",
            "Processing time step 23...\n",
            "Processing time step 22...\n",
            "Processing time step 21...\n",
            "Processing time step 20...\n",
            "Processing time step 19...\n",
            "Processing time step 18...\n",
            "Processing time step 17...\n",
            "Processing time step 16...\n",
            "Processing time step 15...\n",
            "Processing time step 14...\n",
            "Processing time step 13...\n",
            "Processing time step 12...\n",
            "Processing time step 11...\n",
            "Processing time step 10...\n",
            "Processing time step 9...\n",
            "Processing time step 8...\n",
            "Processing time step 7...\n",
            "Processing time step 6...\n",
            "Processing time step 5...\n",
            "Processing time step 4...\n",
            "Processing time step 3...\n",
            "Processing time step 2...\n",
            "Processing time step 1...\n"
          ]
        },
        {
          "name": "stderr",
          "output_type": "stream",
          "text": [
            "Evaluating: 100%|██████████| 1/1 [1:09:50<00:00, 4190.25s/it]"
          ]
        },
        {
          "name": "stdout",
          "output_type": "stream",
          "text": [
            "In Dice score function\n",
            "(57600,) (57600,)\n",
            "Checkpoint: brats_ddpm_checkpoint_epoch_40.pth | Dice: 0.2583 | AUROC: 0.8681\n",
            "\n",
            "\n",
            "Best Checkpoint: brats_ddpm_checkpoint_epoch_40.pth with Dice: 0.2583\n"
          ]
        },
        {
          "name": "stderr",
          "output_type": "stream",
          "text": [
            "\n"
          ]
        }
      ],
      "source": [
        "num_time_steps = 400\n",
        "val_data_path = \"val-test/val\"\n",
        "checkpoint_dir = \"checkpoints\"\n",
        "scheduler = DDPM_Scheduler(num_time_steps=num_time_steps).to(device)\n",
        "batch_numbers = [40]\n",
        "test_checkpoints(val_data_path, checkpoint_dir, batch_numbers, scheduler, num_time_steps)"
      ]
    },
    {
      "cell_type": "markdown",
      "metadata": {},
      "source": [
        "### Plot an image"
      ]
    },
    {
      "cell_type": "code",
      "execution_count": 69,
      "metadata": {},
      "outputs": [
        {
          "data": {
            "image/png": "[encoded data removed]",
            "text/plain": [
              "<Figure size 640x480 with 1 Axes>"
            ]
          },
          "metadata": {},
          "output_type": "display_data"
        }
      ],
      "source": [
        "import nibabel as nib\n",
        "import numpy as np\n",
        "import matplotlib.pyplot as plt\n",
        "\n",
        "def plot_nii(nii_path, slice_idx=None):\n",
        "    \"\"\"\n",
        "    Plots a given slice of a single-channel NIfTI (.nii or .nii.gz) image.\n",
        "\n",
        "    Args:\n",
        "        nii_path (str): Path to the .nii or .nii.gz file.\n",
        "        slice_idx (int, optional): Index of the slice to display. Defaults to the middle slice.\n",
        "    \"\"\"\n",
        "    nii_img = nib.load(nii_path)\n",
        "    img_data = nii_img.get_fdata()  # Convert to numpy array\n",
        "\n",
        "    # Get slice index\n",
        "    if slice_idx is None:\n",
        "        slice_idx = img_data.shape[-1] // 2  # Use last axis for slicing\n",
        "\n",
        "    # Plot the selected slice\n",
        "    plt.imshow(img_data[:, :], cmap=\"gray\")\n",
        "    plt.axis(\"off\")\n",
        "    plt.title(f\"Slice {slice_idx}\")\n",
        "    plt.show()\n",
        "\n",
        "\n",
        "plot_nii(\"val-test/val/000077/BraTS20_Training_321_t1_107.nii\")"
      ]
    }
  ],
  "metadata": {
    "accelerator": "GPU",
    "colab": {
      "collapsed_sections": [
        "gJzfe3HOz4KD",
        "_9ORVCc1z7DR",
        "VGXiQiWnz_Po",
        "SxpENE6MJtlI",
        "zQFnsdN9JtlJ",
        "NIMWqvt-JtlJ",
        "kfFBhAhgJtlK",
        "r8fn_3uy0Ffv",
        "bViuRDbY0PFk",
        "-eroMMFH0R9c"
      ],
      "gpuType": "T4",
      "provenance": []
    },
    "kaggle": {
      "accelerator": "gpu",
      "dataSources": [],
      "dockerImageVersionId": 30887,
      "isGpuEnabled": true,
      "isInternetEnabled": true,
      "language": "python",
      "sourceType": "notebook"
    },
    "kernelspec": {
      "display_name": "fyp",
      "language": "python",
      "name": "python3"
    },
    "language_info": {
      "codemirror_mode": {
        "name": "ipython",
        "version": 3
      },
      "file_extension": ".py",
      "mimetype": "text/x-python",
      "name": "python",
      "nbconvert_exporter": "python",
      "pygments_lexer": "ipython3",
      "version": "3.11.6"
    }
  },
  "nbformat": 4,
  "nbformat_minor": 0
}
